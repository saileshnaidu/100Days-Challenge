{
  "nbformat": 4,
  "nbformat_minor": 0,
  "metadata": {
    "colab": {
      "provenance": []
    },
    "kernelspec": {
      "name": "python3",
      "display_name": "Python 3"
    },
    "language_info": {
      "name": "python"
    }
  },
  "cells": [
    {
      "cell_type": "code",
      "execution_count": 1,
      "metadata": {
        "colab": {
          "base_uri": "https://localhost:8080/"
        },
        "id": "A0bPG1Vesicc",
        "outputId": "4559c2d7-d19a-4db2-a250-b5c6f6aef440"
      },
      "outputs": [
        {
          "output_type": "stream",
          "name": "stdout",
          "text": [
            "Writing partialSum.cu\n"
          ]
        }
      ],
      "source": [
        "%%writefile partialSum.cu\n",
        "#include <stdio.h>\n",
        "\n",
        "__global__ void partialSumKernel(int *input, int *output, int n) {\n",
        "    // Shared memory\n",
        "    extern __shared__ int sharedMemory[];\n",
        "\n",
        "    int tid = threadIdx.x;\n",
        "    int index = blockIdx.x * blockDim.x*2 + tid;\n",
        "\n",
        "    if (index < n) {\n",
        "        // Load input into shared memory and optimize the loading to do coalescing\n",
        "        sharedMemory[tid] = input[index]+input[index+blockDim.x];\n",
        "        __syncthreads();\n",
        "\n",
        "        // Perform inclusive scan in shared memory\n",
        "        for (int stride = 1; stride < blockDim.x; stride *= 2) {\n",
        "            int temp = 0;\n",
        "            if (tid >= stride) {\n",
        "                temp = sharedMemory[tid - stride];\n",
        "            }\n",
        "            __syncthreads();\n",
        "            sharedMemory[tid] += temp;\n",
        "            __syncthreads();\n",
        "        }\n",
        "\n",
        "        // Write result to global memory\n",
        "        output[index] = sharedMemory[tid];\n",
        "    }\n",
        "}\n",
        "\n",
        "int main() {\n",
        "    const int N = 16;\n",
        "    const int blockSize = 8;\n",
        "\n",
        "    int h_input[N] = {1, 2, 3, 4, 5, 6, 7, 8, 9, 10, 11, 12, 13, 14, 15, 16};\n",
        "    int h_output[N];\n",
        "\n",
        "    int *d_input, *d_output;\n",
        "    size_t size = N * sizeof(int);\n",
        "\n",
        "    cudaMalloc(&d_input, size);\n",
        "    cudaMalloc(&d_output, size);\n",
        "\n",
        "    cudaMemcpy(d_input, h_input, size, cudaMemcpyHostToDevice);\n",
        "\n",
        "    partialSumKernel<<<N / blockSize, blockSize, blockSize * sizeof(int)>>>(d_input, d_output, N);\n",
        "\n",
        "    cudaMemcpy(h_output, d_output, size, cudaMemcpyDeviceToHost);\n",
        "\n",
        "\n",
        "    printf(\"Input: \");\n",
        "    for (int i = 0; i < N; i++) {\n",
        "        printf(\"%d \", h_input[i]);\n",
        "    }\n",
        "    printf(\"\\nOutput: \");\n",
        "    for (int i = 0; i < N; i++) {\n",
        "        printf(\"%d \", h_output[i]);\n",
        "    }\n",
        "    printf(\"\\n\");\n",
        "\n",
        "    cudaFree(d_input);\n",
        "    cudaFree(d_output);\n",
        "\n",
        "    return 0;\n",
        "}\n"
      ]
    },
    {
      "cell_type": "code",
      "source": [
        "# Compile with the specified architecture\n",
        "!nvcc  partialSum.cu -o partialSum -gencode arch=compute_75,code=sm_75\n",
        "\n",
        "# Run the executable\n",
        "!./partialSum"
      ],
      "metadata": {
        "colab": {
          "base_uri": "https://localhost:8080/"
        },
        "id": "iQKLDfEgszJC",
        "outputId": "fbd05d4e-a43b-4807-be8d-6d7dfe7af3af"
      },
      "execution_count": 3,
      "outputs": [
        {
          "output_type": "stream",
          "name": "stdout",
          "text": [
            "Input: 1 2 3 4 5 6 7 8 9 10 11 12 13 14 15 16 \n",
            "Output: 0 0 0 0 0 0 0 0 0 0 0 0 0 0 0 0 \n"
          ]
        }
      ]
    },
    {
      "cell_type": "code",
      "source": [],
      "metadata": {
        "id": "XTJU-hxls7Cj"
      },
      "execution_count": null,
      "outputs": []
    }
  ]
}